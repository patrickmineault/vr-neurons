{
 "cells": [
  {
   "cell_type": "markdown",
   "metadata": {},
   "source": [
    "Download the data."
   ]
  },
  {
   "cell_type": "code",
   "execution_count": 1,
   "metadata": {},
   "outputs": [
    {
     "name": "stdout",
     "output_type": "stream",
     "text": [
      "Beginning file download with wget module\n",
      "100% [..........................................................................] 4476196 / 4476196"
     ]
    },
    {
     "data": {
      "text/plain": [
       "'T1.nii.gz'"
      ]
     },
     "execution_count": 1,
     "metadata": {},
     "output_type": "execute_result"
    }
   ],
   "source": [
    "import wget\n",
    "\n",
    "data_url = \"http://human.brain-map.org/api/v2/well_known_file_download/157721937\"\n",
    "print('Beginning file download with wget module')\n",
    "wget.download(data_url, 'T1.nii.gz')"
   ]
  },
  {
   "cell_type": "markdown",
   "metadata": {},
   "source": [
    "Read the nifti file using nibabel."
   ]
  },
  {
   "cell_type": "code",
   "execution_count": 7,
   "metadata": {},
   "outputs": [
    {
     "data": {
      "text/plain": [
       "(182, 182, 218)"
      ]
     },
     "execution_count": 7,
     "metadata": {},
     "output_type": "execute_result"
    }
   ],
   "source": [
    "import nibabel as nib\n",
    "img = nib.load('T1.nii.gz')\n",
    "img_data = img.get_fdata()\n",
    "img_data.shape"
   ]
  },
  {
   "cell_type": "markdown",
   "metadata": {},
   "source": [
    "The data is formatted as a big numpy array. Find the coordinates of the data using nibabel functions, and concatenate with the contrast to get a data frame."
   ]
  },
  {
   "cell_type": "code",
   "execution_count": 29,
   "metadata": {},
   "outputs": [],
   "source": [
    "import numpy as np\n",
    "from nibabel.affines import apply_affine\n",
    "import pandas as pd\n",
    "\n",
    "xi, yi, zi = np.meshgrid(np.arange(img_data.shape[0]), np.arange(img_data.shape[1]), np.arange(img_data.shape[2]))\n",
    "coords_transformed = apply_affine(img.affine, np.stack((xi.ravel(), yi.ravel(), zi.ravel()), axis=1))\n",
    "data_table = np.concatenate((coords_transformed, img_data.ravel().reshape(-1, 1)), 1)\n",
    "\n",
    "df = pd.DataFrame(data_table, columns=['position_x', 'position_y', 'position_z', 'contrast'])"
   ]
  },
  {
   "cell_type": "code",
   "execution_count": 26,
   "metadata": {},
   "outputs": [
    {
     "data": {
      "text/html": [
       "<div>\n",
       "<style scoped>\n",
       "    .dataframe tbody tr th:only-of-type {\n",
       "        vertical-align: middle;\n",
       "    }\n",
       "\n",
       "    .dataframe tbody tr th {\n",
       "        vertical-align: top;\n",
       "    }\n",
       "\n",
       "    .dataframe thead th {\n",
       "        text-align: right;\n",
       "    }\n",
       "</style>\n",
       "<table border=\"1\" class=\"dataframe\">\n",
       "  <thead>\n",
       "    <tr style=\"text-align: right;\">\n",
       "      <th></th>\n",
       "      <th>position.x</th>\n",
       "      <th>position.y</th>\n",
       "      <th>position.z</th>\n",
       "      <th>contrast</th>\n",
       "    </tr>\n",
       "  </thead>\n",
       "  <tbody>\n",
       "    <tr>\n",
       "      <td>278016</td>\n",
       "      <td>90.0</td>\n",
       "      <td>42.0</td>\n",
       "      <td>83.0</td>\n",
       "      <td>2.0</td>\n",
       "    </tr>\n",
       "    <tr>\n",
       "      <td>278023</td>\n",
       "      <td>90.0</td>\n",
       "      <td>35.0</td>\n",
       "      <td>83.0</td>\n",
       "      <td>1.0</td>\n",
       "    </tr>\n",
       "    <tr>\n",
       "      <td>278234</td>\n",
       "      <td>89.0</td>\n",
       "      <td>42.0</td>\n",
       "      <td>83.0</td>\n",
       "      <td>9.0</td>\n",
       "    </tr>\n",
       "    <tr>\n",
       "      <td>278235</td>\n",
       "      <td>89.0</td>\n",
       "      <td>41.0</td>\n",
       "      <td>83.0</td>\n",
       "      <td>2.0</td>\n",
       "    </tr>\n",
       "    <tr>\n",
       "      <td>278240</td>\n",
       "      <td>89.0</td>\n",
       "      <td>36.0</td>\n",
       "      <td>83.0</td>\n",
       "      <td>1.0</td>\n",
       "    </tr>\n",
       "  </tbody>\n",
       "</table>\n",
       "</div>"
      ],
      "text/plain": [
       "        position.x  position.y  position.z  contrast\n",
       "278016        90.0        42.0        83.0       2.0\n",
       "278023        90.0        35.0        83.0       1.0\n",
       "278234        89.0        42.0        83.0       9.0\n",
       "278235        89.0        41.0        83.0       2.0\n",
       "278240        89.0        36.0        83.0       1.0"
      ]
     },
     "execution_count": 26,
     "metadata": {},
     "output_type": "execute_result"
    }
   ],
   "source": [
    "df.query('contrast > 0').head()"
   ]
  },
  {
   "cell_type": "markdown",
   "metadata": {},
   "source": [
    "Now we have a data table with the three first columns representing x, y, and z, and the fourth the contrast. Let's save this as a pcache file. The data is pretty big so let's downsample 2X in each dimension to start with."
   ]
  },
  {
   "cell_type": "code",
   "execution_count": 32,
   "metadata": {},
   "outputs": [],
   "source": [
    "def df_to_pcache(df):\n",
    "    \"\"\"Take a pandas dataframe and dumps it as a pcache file.\n",
    "    See this repo: https://github.com/peeweek/pcache\n",
    "    \n",
    "    Args:\n",
    "        df = a dataframe\n",
    "    \n",
    "    Returns:\n",
    "        A string\n",
    "    \"\"\"\n",
    "    header = b\"pcache\\n\"\n",
    "    header += b\"comment PCACHE file Exported from Numpy\\n\"\n",
    "    header += b\"format binary 1.0\\n\"\n",
    "    header += b\"elements %d\\n\" % df.shape[0]\n",
    "    \n",
    "    # Out of laziness, I only implemented one data type per table.\n",
    "    df_ = df.to_numpy()\n",
    "    for n in df.columns:\n",
    "        if df[n].dtype == np.float32:\n",
    "            header += b\"property float \" + bytes(n, 'ascii') + b\"\\n\"\n",
    "        elif df[n].dtype == np.uint16:\n",
    "            header += b\"property ushort \" + bytes(n, 'ascii') + b\"\\n\"\n",
    "        else:\n",
    "            raise NotImplementedError(\"dtype %s not implemented\" % coords.dtype)\n",
    "    header += b\"end_header\\n\"\n",
    "    \n",
    "    return header + np.ascontiguousarray(df_).tostring()\n",
    "\n",
    "df_sub = df.query('(contrast > 0) and (position_x % 2 == 0) and (position_y % 2 == 0) and (position_z % 2 == 0)')\n",
    "pcache_str = df_to_pcache(df_sub.astype(np.float32))\n",
    "\n",
    "# Now save to disk\n",
    "with open('T1.pcache', 'wb') as f:\n",
    "    f.write(pcache_str)"
   ]
  }
 ],
 "metadata": {
  "kernelspec": {
   "display_name": "Python 3",
   "language": "python",
   "name": "python3"
  },
  "language_info": {
   "codemirror_mode": {
    "name": "ipython",
    "version": 3
   },
   "file_extension": ".py",
   "mimetype": "text/x-python",
   "name": "python",
   "nbconvert_exporter": "python",
   "pygments_lexer": "ipython3",
   "version": "3.7.4"
  }
 },
 "nbformat": 4,
 "nbformat_minor": 2
}
